{
 "cells": [
  {
   "cell_type": "code",
   "execution_count": 18,
   "metadata": {},
   "outputs": [],
   "source": [
    "import pandas as pd\n",
    "\n",
    "import numpy as np\n",
    "import numpy.linalg as lin\n",
    "from numpy.linalg import LinAlgError\n",
    "from itertools import combinations_with_replacement, combinations\n",
    "from functools import reduce\n",
    "import matplotlib.pyplot as plt"
   ]
  },
  {
   "cell_type": "markdown",
   "metadata": {},
   "source": [
    "# 모델: Polynomial Features"
   ]
  },
  {
   "cell_type": "code",
   "execution_count": 19,
   "metadata": {},
   "outputs": [],
   "source": [
    "class PolynomialFeatures:\n",
    "    '''\n",
    "    다항식으로 feature space 변환\n",
    "    쓰여진 모듈\n",
    "    1> itertools.combinations_with_replacement, combinations\n",
    "    2> numpy\n",
    "    '''\n",
    "    __slots__ = ['degree', 'interaction_only', 'self_only']\n",
    "    def __init__(self, degree = 2, interaction_only = False, self_only = False):\n",
    "        self.degree = degree\n",
    "        self.interaction_only = interaction_only\n",
    "        self.self_only = self_only\n",
    "        \n",
    "        if (self.self_only == True) and (self.interaction_only == True):\n",
    "            raise Exception(\"either self_only or interaction_only can be True\")\n",
    "        \n",
    "        if self.degree > 8: \n",
    "            raise Exception(\"Too high degree!!\")\n",
    "            \n",
    "    def fit_transform(self, X):\n",
    "        #1. 열 별로 추출\n",
    "        col_list = [col for col in X.T]\n",
    "        \n",
    "        #2. 열 별로 deg에 맞춰 새로운 X를 생성한다.\n",
    "        feature_spaces = None\n",
    "        \n",
    "        for deg in range(1,self.degree+1): #self.degree까지 포함되어야 한다.\n",
    "            if deg == 1:\n",
    "                feature_spaces = self.__combination(col_list, deg)\n",
    "            else:\n",
    "                feature_spaces = np.vstack( (feature_spaces, self.__combination(col_list, deg)) ) \n",
    "                \n",
    "        return feature_spaces.T\n",
    "    \n",
    "    def __combination(self, col_list, n): #deg n 의 조합들 생성\n",
    "        \n",
    "        combination_cols = None\n",
    "        feature_space_degree_n = None\n",
    "        \n",
    "        if self.interaction_only == True:\n",
    "            combination_cols = combinations(col_list, n)\n",
    "        \n",
    "        elif self.self_only == True:\n",
    "            combination_cols = map(lambda col: [col]*n, col_list)\n",
    "        \n",
    "        else:\n",
    "            combination_cols = combinations_with_replacement(col_list, n)\n",
    "        \n",
    "        \n",
    "        for idx, combination in enumerate(combination_cols):\n",
    "            current = reduce(lambda x,y: x*y, combination)\n",
    "        \n",
    "            if idx == 0:\n",
    "                feature_space_degree_n = current\n",
    "            else :\n",
    "                feature_space_degree_n = np.vstack((feature_space_degree_n, current))        \n",
    "        return feature_space_degree_n #return = ndarray type"
   ]
  },
  {
   "cell_type": "markdown",
   "metadata": {},
   "source": [
    "# KNN Regression"
   ]
  },
  {
   "cell_type": "code",
   "execution_count": 20,
   "metadata": {},
   "outputs": [],
   "source": [
    "class KNNRegressor:\n",
    "    __slots__ = ['n','normalize','copy_train','distance','gamma','degree','theta','train_std','train_mean']\n",
    "    def __init__(self, n=2, normalize = True, copy_train = True, distance = 'linear', gamma = 1, degree = 3, theta = 0):\n",
    "        self.n = n\n",
    "        self.copy_train = copy_train\n",
    "        self.normalize = normalize\n",
    "        self.distance = kernel\n",
    "        self.gamma = gamma\n",
    "        self.degree = degree\n",
    "        self.theta = theta\n",
    "    '''-----------------------------------------------------------------------------------------------'''\n",
    "    \n",
    "    def fit(self, X, y):\n",
    "        if self.copy_train == True:\n",
    "            self.train_X = np.copy(X)\n",
    "            self.train_y = np.copy(y)\n",
    "        else:\n",
    "            self.train_X = X\n",
    "            self.train_y = y\n",
    "        \n",
    "        if self.normalize == True:\n",
    "            self.train_mean = self.train_X.mean()\n",
    "            self.train_std = self.train_X.std()\n",
    "            self.train_X = self.__normalize(self.train_X)\n",
    "            \n",
    "    '''-----------------------------------------------------------------------------------------------'''\n",
    "    #distance = origin으로부터의 거리! = sqrt(K(x,x))로 정의할 수 있다.\n",
    "    def predict(self, X_pred):        \n",
    "        if self.normalize == True:\n",
    "            X_pred = self.__normalize(X_pred)\n",
    "        \n",
    "        distance = self.__distance()\n",
    "        \n",
    "        '''-----------------------------------------------------------------------------------------------'''\n",
    "        \n",
    "        neighbors = list(zip(map(distance,self.train_X), self.train_y)) #list(map(distance, self.train_X))  \n",
    "        \n",
    "        #selection sort를 1~n까지만\n",
    "        for i in range(self.n):\n",
    "            min = i\n",
    "            for j in range(len(neighbors)):\n",
    "                if neighbors[i][0] > neighbors[j][0] : \n",
    "                    min = j\n",
    "            tmp = neighbors[i]\n",
    "            neighbors[i] = neighbors[min]\n",
    "            neighbors[min] = tmp\n",
    "        \n",
    "        neighbors = neighbors[:self.n]\n",
    "        distance = [d for d,_ in neighbors]\n",
    "        label = [l for _,l in neighbors]\n",
    "        \n",
    "        '''-----------------------------------------------------------------------------------------------'''\n",
    "        \n",
    "        if self.n == 1:\n",
    "            return label[0] \n",
    "        else:\n",
    "            prop = 1 - np.array(distance)/np.sum(distance)  #1 - dist/np.sum(dist) #weighted average를 위해\n",
    "            predict_label = prop.dot(label)\n",
    "        \n",
    "            return predict_label\n",
    "        \n",
    "    '''-----------------------------------------------------------------------------------------------'''\n",
    "    def __distance():\n",
    "        if self.distance == 'l2_norm' :\n",
    "            if type(X_pred) != np.ndarray:\n",
    "                return lambda y: (X_pred-y)**2\n",
    "            else:\n",
    "                return lambda y : (X_pred-y).dot(X_pred-y)\n",
    "        \n",
    "        elif self.distance == 'l1_norm':\n",
    "            return lambda y : np.sum(np.abs(X_pred-y))\n",
    "            \n",
    "        elif self.distance == 'sigmoid':\n",
    "            if type(X_pred) != np.ndarray:\n",
    "                return lambda y : np.tanh(self.gamma*((y-X_pred)*(y-X_pred)) + self.theta)\n",
    "            else:\n",
    "                return lambda y: np.tanh(self.gamma*((y-X_pred).dot((y-X_pred))) + self.theta)\n",
    "        \n",
    "        elif self.distance == 'poly' :\n",
    "            if type(X_pred) != np.ndarray:\n",
    "                return lambda y :(self.gamma*((X_pred-y)**2)+self.theta)**self.degree\n",
    "            else:\n",
    "                return lambda y: (self.gamma*((X_pred-y).dot(X_pred-y))+self.theta)**self.degree\n",
    "        \n",
    "    '''-----------------------------------------------------------------------------------------------'''\n",
    "    \n",
    "    def score(self, X, y):\n",
    "        y_pred = np.array([self.predict(data) for data in X])\n",
    "        \n",
    "        return self.__r2_score(y,y_pred)\n",
    "    '''-----------------------------------------------------------------------------------------------'''\n",
    "    \n",
    "    def __r2_score(self, y_true, y_pred):\n",
    "        SS_total = 0\n",
    "        SS_reg = 0\n",
    "    \n",
    "        for i in range(len(y_true)):\n",
    "            x = (y_true[i] - y_pred[i])**2\n",
    "            SS_reg = SS_reg+x\n",
    "    \n",
    "        y_true_mean = np.mean(y_true)\n",
    "        for i in range(len(y_true)):\n",
    "            x = (y_true[i]-y_true_mean)**2\n",
    "            SS_total = SS_total+x\n",
    "        return 1 - (SS_reg/SS_total)\n",
    "    '''-----------------------------------------------------------------------------------------------'''\n",
    "    \n",
    "    def __normalize(self, data):\n",
    "        data = (data - self.train_mean)/self.train_std\n",
    "        return data\n",
    "    '''-----------------------------------------------------------------------------------------------'''"
   ]
  },
  {
   "cell_type": "markdown",
   "metadata": {},
   "source": [
    "# Linear Regression Model"
   ]
  },
  {
   "cell_type": "code",
   "execution_count": 21,
   "metadata": {},
   "outputs": [],
   "source": [
    "from abc import *\n",
    "class base_linear_model(ABC):\n",
    "    __slots__ = ['alpha', 'copy_X', 'normalize', 'max_iter','train_mean','train_std','weight']\n",
    "    def __init__(self, alpha = 0.01, copy_X = True, normalize = True, fit_intercept = True, max_iter = None):\n",
    "        self.alpha = alpha\n",
    "        self.copy_X = copy_X\n",
    "        self.normalize = normalize\n",
    "        self.max_iter = max_iter\n",
    "        self.train_mean = None\n",
    "        self.train_std = None\n",
    "        \n",
    "    @abstractmethod\n",
    "    def fit(self,X,y):\n",
    "        pass\n",
    "    @abstractmethod\n",
    "    def predict(self, X):\n",
    "        pass\n",
    "    @abstractmethod\n",
    "    def score(self, X,y):\n",
    "        pass        \n",
    "    \n",
    "    @abstractmethod\n",
    "    def gradient(self, X,y,w):\n",
    "        pass\n",
    "    \n",
    "    def gradient_descent(self, X,y):\n",
    "        #heavy ball method\n",
    "        #1. 초기값 정하기\n",
    "        tolerence = 1.0e-6\n",
    "        gravities = np.logspace(-4,0,5) #중력\n",
    "        steps = np.logspace(-5,1,7) #이동 거리\n",
    "        prv_weight = np.copy(self.weight) #중력 방향\n",
    "        \n",
    "        \n",
    "        for _ in range(self.max_iter):\n",
    "            gradient = self.gradient(X,y, self.weight)\n",
    "            direction = (-1) * (gradient/np.sqrt(gradient.dot(gradient)))\n",
    "            \n",
    "            #2. 종료조건 탐색 ==> 기울기가 0에 수렴하는가.\n",
    "            if gradient.dot(gradient) < tolerence:\n",
    "                return self.weight\n",
    "            \n",
    "            #3. 다음 위치 찾기\n",
    "            next_weights = [(self.weight + step*direction + gravity*(self.weight - prv_weight)) for step in steps for gravity in gravities]\n",
    "            \n",
    "            next_gradients = [self.gradient(X,y,w) for w in next_weights]\n",
    "            \n",
    "            next_gradients = [g.dot(g) for g in next_gradients]\n",
    "            \n",
    "            min_idx = np.argmin(next_gradients)\n",
    "            \n",
    "            #4.update\n",
    "            prv_weight = np.copy(self.weight) #중력 방향\n",
    "            self.weight = next_weights[min_idx]\n",
    "        \n",
    "        return self.weight\n",
    "    \n",
    "    \n",
    "    def normalize_(self, data):\n",
    "        data = (data - self.train_mean)/self.train_std\n",
    "        return data\n",
    "    \n",
    "    def r2_score(self, y_true, y_pred):\n",
    "        SS_total = 0\n",
    "        SS_reg = 0\n",
    "    \n",
    "        for i in range(len(y_true)):\n",
    "            x = (y_true[i] - y_pred[i])**2\n",
    "            SS_reg = SS_reg+x\n",
    "    \n",
    "        y_true_mean = np.mean(y_true)\n",
    "        for i in range(len(y_true)):\n",
    "            x = (y_true[i]-y_true_mean)**2\n",
    "            SS_total = SS_total+x\n",
    "        return 1 - (SS_reg/SS_total)\n",
    "    \n",
    "    \n",
    "    def predict(self, X):\n",
    "        if self.normalize == True:\n",
    "            X = self.normalize_(X)\n",
    "        \n",
    "        X = self.include_bias(X)\n",
    "        \n",
    "        return np.dot(X,self.weight)\n",
    "     \n",
    "    def score(self, X, y_true):\n",
    "        y_pred = self.predict(X)\n",
    "        return self.r2_score(y_true, y_pred)\n",
    "    \n",
    "    def include_bias(self, data):\n",
    "        try:\n",
    "            if len(data) < 2:\n",
    "                data = np.hstack((data,1))\n",
    "            else:\n",
    "                data = np.hstack((data,np.ones((data.shape[0],1))))\n",
    "        except:\n",
    "            print(\"Only ndarray accept!!\")\n",
    "        \n",
    "        return data"
   ]
  },
  {
   "cell_type": "markdown",
   "metadata": {},
   "source": [
    "# Linear-1: Ridge"
   ]
  },
  {
   "cell_type": "code",
   "execution_count": 22,
   "metadata": {},
   "outputs": [],
   "source": [
    "class Ridge(base_linear_model):\n",
    "    __slots__ = ['alpha', 'copy_X', 'normalize', 'max_iter','train_mean','train_std','weight','X_train']\n",
    "    \n",
    "    def __init__(self, alpha = 0.01, copy_X = True, normalize = True, max_iter = 1000):\n",
    "        super().__init__(alpha = alpha, copy_X = copy_X, normalize = normalize, max_iter = max_iter)\n",
    "    \n",
    "    \n",
    "    def fit(self, X, y):\n",
    "        self.weight = None\n",
    "        \n",
    "        if self.copy_X == True:\n",
    "            self.X_train = np.copy(X)\n",
    "        else:\n",
    "            self.X_train = X\n",
    "        \n",
    "        if self.normalize == True:\n",
    "            self.train_mean = self.X_train.mean()\n",
    "            self.train_std = self.X_train.std()\n",
    "            \n",
    "            self.X_train = super().normalize_(self.X_train)\n",
    "        \n",
    "        self.X_train = super().include_bias(self.X_train)\n",
    "        \n",
    "            \n",
    "        try :\n",
    "            XT = self.X_train.T\n",
    "            step1 = lin.inv(XT@self.X_train + self.alpha*(np.eye(XT.shape[0])))\n",
    "            self.weight = step1@XT@y\n",
    "            \n",
    "        except LinAlgError as e: #inv를 구할 수 없다. ==> 경사하강법 사용\n",
    "            \n",
    "            self.weight = np.random.randn(self.X_train.shape[1]) #weight initialize\n",
    "            self.weight = self.gradient_descent(self.X_train,y) #경사하강법으로 찾는다.\n",
    "        \n",
    "        return self\n",
    "    \n",
    "    def gradient(self, X, y, w):\n",
    "        OLS_gradient = -2*X.T@(y-X.dot(w))\n",
    "        Ridge_term = 2*self.alpha*w\n",
    "        return OLS_gradient + Ridge_term    "
   ]
  },
  {
   "cell_type": "markdown",
   "metadata": {},
   "source": [
    "# Linear-2 : Lasso"
   ]
  },
  {
   "cell_type": "code",
   "execution_count": 23,
   "metadata": {},
   "outputs": [],
   "source": [
    "class Lasso(base_linear_model):\n",
    "    __slots__ = ['alpha', 'copy_X', 'normalize', 'max_iter','train_mean','train_std','weight','X_train']\n",
    "    def __init__(self, alpha = 0.01, copy_X = True, normalize = False, max_iter = 1000):\n",
    "        super().__init__(alpha = alpha, copy_X = copy_X, normalize = normalize, max_iter = max_iter)\n",
    "\n",
    "        \n",
    "    def fit(self, X,y):\n",
    "        \n",
    "        if self.copy_X == True:\n",
    "            self.X_train = np.copy(X)\n",
    "        else:\n",
    "            self.X_train = X\n",
    "        \n",
    "        if self.normalize == True:\n",
    "            self.train_mean = self.X_train.mean()\n",
    "            self.train_std = self.X_train.std()\n",
    "            self.X_train = super().normalize_(self.X_train)\n",
    "        \n",
    "        self.X_train= super().include_bias(self.X_train)\n",
    "        \n",
    "        #gradient Descent 이용\n",
    "        self.weight = np.random.randn(self.X_train.shape[1])\n",
    "        self.weight = self.gradient_descent(self.X_train, y)\n",
    "\n",
    "                \n",
    "        return self\n",
    "    \n",
    "    \n",
    "    def gradient(self, X,y,w):\n",
    "        #partial gradient를 구한 후, 하나로 합친다.\n",
    "        m,n = X.shape #m: data 수, n: feature 수\n",
    "        \n",
    "        gradient = np.zeros(w.shape)\n",
    "\n",
    "        gradient = -2*X.transpose().dot((y-X.dot(w))) #RSS Term\n",
    "        \n",
    "        for j in range(n):\n",
    "            if w[j] > 1.0e-4:\n",
    "                gradient[j] += self.alpha\n",
    "            elif w[j]<-1.0e-4:\n",
    "                gradient[j] -= self.alpha\n",
    "            else:\n",
    "                gradient[j] += 0 #subderivative\n",
    "        \n",
    "        return gradient"
   ]
  },
  {
   "cell_type": "markdown",
   "metadata": {},
   "source": [
    "# Linear-3 : Elastic Net"
   ]
  },
  {
   "cell_type": "code",
   "execution_count": 24,
   "metadata": {},
   "outputs": [],
   "source": [
    "class ElasticNet(base_linear_model):\n",
    "    __slots__ = ['alpha', 'copy_X', 'normalize', 'max_iter','train_mean','train_std','weight', 'L1_ratio','X_train']\n",
    "    def __init__(self, alpha = 1, L1_ratio = 0.3, normalize =True, copy_X = True, max_iter = 1000):\n",
    "        super().__init__(alpha = alpha, copy_X = copy_X, normalize = normalize, max_iter = max_iter)\n",
    "        self.L1_ratio = L1_ratio\n",
    "\n",
    "    def fit(self, X, y):\n",
    "        if self.copy_X == True:\n",
    "            self.X_train = np.copy(X)\n",
    "  \n",
    "        if self.normalize == True:\n",
    "            self.train_mean = self.X_train.mean()\n",
    "            self.train_std = self.X_train.std()\n",
    "            self.X_train = super().normalize_(self.X_train)\n",
    "              \n",
    "        self.X_train = super().include_bias(self.X_train)\n",
    "        \n",
    "        \n",
    "        self.weight = np.random.randn(self.X_train.shape[1])\n",
    "        self.weight = super().gradient_descent(self.X_train, y)\n",
    "                \n",
    "        return self\n",
    "    \n",
    "    def gradient(self, X,y,w):\n",
    "        OLS_gradient = -2*X.T.dot(y-X.dot(w))\n",
    "        Ridge_gradient = self.alpha*(1-self.L1_ratio)*2*w\n",
    "        \n",
    "        Lasso_const = self.alpha*self.L1_ratio\n",
    "        Lasso_gradient = np.zeros(w.shape)\n",
    "        for i in range(len(w)):\n",
    "            if w[i] > 1.0e-4:\n",
    "                Lasso_gradient[i] = Lasso_const*1\n",
    "            elif w[i] < -1.0e-4:\n",
    "                Lasso_gradient[i] = Lasso_const*(-1)\n",
    "            else:\n",
    "                Lasso_gradient[i] = 0\n",
    "\n",
    "        return OLS_gradient + 0.5*(Ridge_gradient + Lasso_gradient)"
   ]
  },
  {
   "cell_type": "markdown",
   "metadata": {},
   "source": [
    "# Test"
   ]
  },
  {
   "cell_type": "markdown",
   "metadata": {},
   "source": [
    "1. Data 불러오기"
   ]
  },
  {
   "cell_type": "code",
   "execution_count": 25,
   "metadata": {},
   "outputs": [
    {
     "data": {
      "text/plain": [
       "'-----------------------------------------------------------------------------------------------'"
      ]
     },
     "execution_count": 25,
     "metadata": {},
     "output_type": "execute_result"
    }
   ],
   "source": [
    "train_data = pd.read_csv('~/ml/data/test3_data/test3_data_train.csv')\n",
    "test_data = pd.read_csv('~/ml/data/test3_data/test3_data_test.csv')\n",
    "\n",
    "'''-----------------------------------------------------------------------------------------------'''\n",
    "\n",
    "target = ['prop_log_historical_price']\n",
    "\n",
    "train_data_price = train_data.drop(target, axis = 'columns').values\n",
    "train_target_price = train_data[target[0]].values\n",
    "\n",
    "'''-----------------------------------------------------------------------------------------------'''\n",
    "\n",
    "test_data_price = test_data.drop(target, axis = 'columns').values\n",
    "test_target_price = test_data[target[0]].values\n",
    "\n",
    "'''-----------------------------------------------------------------------------------------------'''\n",
    "#Polynomial Features를 적용하기\n",
    "\n",
    "#train_data_price = poly.fit_transform(train_data_price)\n",
    "#test_data_price = poly.fit_transform(test_data_price)"
   ]
  },
  {
   "cell_type": "markdown",
   "metadata": {},
   "source": [
    "2. Model 불러오기"
   ]
  },
  {
   "cell_type": "code",
   "execution_count": 26,
   "metadata": {},
   "outputs": [
    {
     "data": {
      "text/plain": [
       "<__main__.Ridge at 0x7f179d3c4e08>"
      ]
     },
     "execution_count": 26,
     "metadata": {},
     "output_type": "execute_result"
    }
   ],
   "source": [
    "model = Ridge()\n",
    "model.fit(train_data_price, train_target_price)"
   ]
  },
  {
   "cell_type": "markdown",
   "metadata": {},
   "source": [
    "3. 예측하기"
   ]
  },
  {
   "cell_type": "code",
   "execution_count": 29,
   "metadata": {},
   "outputs": [
    {
     "name": "stdout",
     "output_type": "stream",
     "text": [
      "0.6774405687574274\n"
     ]
    }
   ],
   "source": [
    "print(model.score(test_data_price, test_target_price))"
   ]
  },
  {
   "cell_type": "markdown",
   "metadata": {},
   "source": [
    "4. weight 양상 저장하기"
   ]
  },
  {
   "cell_type": "code",
   "execution_count": 32,
   "metadata": {},
   "outputs": [
    {
     "ename": "FileNotFoundError",
     "evalue": "[Errno 2] No such file or directory: '/ml/Picture/result.png'",
     "output_type": "error",
     "traceback": [
      "\u001b[0;31m---------------------------------------------------------------------------\u001b[0m",
      "\u001b[0;31mFileNotFoundError\u001b[0m                         Traceback (most recent call last)",
      "\u001b[0;32m<ipython-input-32-69a9e9adc043>\u001b[0m in \u001b[0;36m<module>\u001b[0;34m\u001b[0m\n\u001b[1;32m      1\u001b[0m \u001b[0mpath\u001b[0m \u001b[0;34m=\u001b[0m \u001b[0;34mr'/ml/Picture/result.png'\u001b[0m\u001b[0;34m\u001b[0m\u001b[0;34m\u001b[0m\u001b[0m\n\u001b[1;32m      2\u001b[0m \u001b[0mplt\u001b[0m\u001b[0;34m.\u001b[0m\u001b[0mhist\u001b[0m\u001b[0;34m(\u001b[0m\u001b[0mmodel\u001b[0m\u001b[0;34m.\u001b[0m\u001b[0mweight\u001b[0m\u001b[0;34m[\u001b[0m\u001b[0;34m:\u001b[0m\u001b[0mlen\u001b[0m\u001b[0;34m(\u001b[0m\u001b[0mmodel\u001b[0m\u001b[0;34m.\u001b[0m\u001b[0mweight\u001b[0m\u001b[0;34m)\u001b[0m\u001b[0;34m-\u001b[0m\u001b[0;36m1\u001b[0m\u001b[0;34m]\u001b[0m\u001b[0;34m)\u001b[0m \u001b[0;31m#X = [X , 1]으로 bias를 포함하고 있다. 따라서, 마지막 weight는 모델의 복잡도에 관여하지 않으므로, 제외한다.\u001b[0m\u001b[0;34m\u001b[0m\u001b[0;34m\u001b[0m\u001b[0m\n\u001b[0;32m----> 3\u001b[0;31m \u001b[0mplt\u001b[0m\u001b[0;34m.\u001b[0m\u001b[0msavefig\u001b[0m\u001b[0;34m(\u001b[0m\u001b[0mpath\u001b[0m\u001b[0;34m)\u001b[0m\u001b[0;34m\u001b[0m\u001b[0;34m\u001b[0m\u001b[0m\n\u001b[0m",
      "\u001b[0;32m~/anaconda3/lib/python3.7/site-packages/matplotlib/pyplot.py\u001b[0m in \u001b[0;36msavefig\u001b[0;34m(*args, **kwargs)\u001b[0m\n\u001b[1;32m    714\u001b[0m \u001b[0;32mdef\u001b[0m \u001b[0msavefig\u001b[0m\u001b[0;34m(\u001b[0m\u001b[0;34m*\u001b[0m\u001b[0margs\u001b[0m\u001b[0;34m,\u001b[0m \u001b[0;34m**\u001b[0m\u001b[0mkwargs\u001b[0m\u001b[0;34m)\u001b[0m\u001b[0;34m:\u001b[0m\u001b[0;34m\u001b[0m\u001b[0;34m\u001b[0m\u001b[0m\n\u001b[1;32m    715\u001b[0m     \u001b[0mfig\u001b[0m \u001b[0;34m=\u001b[0m \u001b[0mgcf\u001b[0m\u001b[0;34m(\u001b[0m\u001b[0;34m)\u001b[0m\u001b[0;34m\u001b[0m\u001b[0;34m\u001b[0m\u001b[0m\n\u001b[0;32m--> 716\u001b[0;31m     \u001b[0mres\u001b[0m \u001b[0;34m=\u001b[0m \u001b[0mfig\u001b[0m\u001b[0;34m.\u001b[0m\u001b[0msavefig\u001b[0m\u001b[0;34m(\u001b[0m\u001b[0;34m*\u001b[0m\u001b[0margs\u001b[0m\u001b[0;34m,\u001b[0m \u001b[0;34m**\u001b[0m\u001b[0mkwargs\u001b[0m\u001b[0;34m)\u001b[0m\u001b[0;34m\u001b[0m\u001b[0;34m\u001b[0m\u001b[0m\n\u001b[0m\u001b[1;32m    717\u001b[0m     \u001b[0mfig\u001b[0m\u001b[0;34m.\u001b[0m\u001b[0mcanvas\u001b[0m\u001b[0;34m.\u001b[0m\u001b[0mdraw_idle\u001b[0m\u001b[0;34m(\u001b[0m\u001b[0;34m)\u001b[0m   \u001b[0;31m# need this if 'transparent=True' to reset colors\u001b[0m\u001b[0;34m\u001b[0m\u001b[0;34m\u001b[0m\u001b[0m\n\u001b[1;32m    718\u001b[0m     \u001b[0;32mreturn\u001b[0m \u001b[0mres\u001b[0m\u001b[0;34m\u001b[0m\u001b[0;34m\u001b[0m\u001b[0m\n",
      "\u001b[0;32m~/anaconda3/lib/python3.7/site-packages/matplotlib/figure.py\u001b[0m in \u001b[0;36msavefig\u001b[0;34m(self, fname, transparent, **kwargs)\u001b[0m\n\u001b[1;32m   2178\u001b[0m             \u001b[0mself\u001b[0m\u001b[0;34m.\u001b[0m\u001b[0mpatch\u001b[0m\u001b[0;34m.\u001b[0m\u001b[0mset_visible\u001b[0m\u001b[0;34m(\u001b[0m\u001b[0mframeon\u001b[0m\u001b[0;34m)\u001b[0m\u001b[0;34m\u001b[0m\u001b[0;34m\u001b[0m\u001b[0m\n\u001b[1;32m   2179\u001b[0m \u001b[0;34m\u001b[0m\u001b[0m\n\u001b[0;32m-> 2180\u001b[0;31m         \u001b[0mself\u001b[0m\u001b[0;34m.\u001b[0m\u001b[0mcanvas\u001b[0m\u001b[0;34m.\u001b[0m\u001b[0mprint_figure\u001b[0m\u001b[0;34m(\u001b[0m\u001b[0mfname\u001b[0m\u001b[0;34m,\u001b[0m \u001b[0;34m**\u001b[0m\u001b[0mkwargs\u001b[0m\u001b[0;34m)\u001b[0m\u001b[0;34m\u001b[0m\u001b[0;34m\u001b[0m\u001b[0m\n\u001b[0m\u001b[1;32m   2181\u001b[0m \u001b[0;34m\u001b[0m\u001b[0m\n\u001b[1;32m   2182\u001b[0m         \u001b[0;32mif\u001b[0m \u001b[0mframeon\u001b[0m\u001b[0;34m:\u001b[0m\u001b[0;34m\u001b[0m\u001b[0;34m\u001b[0m\u001b[0m\n",
      "\u001b[0;32m~/anaconda3/lib/python3.7/site-packages/matplotlib/backend_bases.py\u001b[0m in \u001b[0;36mprint_figure\u001b[0;34m(self, filename, dpi, facecolor, edgecolor, orientation, format, bbox_inches, **kwargs)\u001b[0m\n\u001b[1;32m   2080\u001b[0m                     \u001b[0morientation\u001b[0m\u001b[0;34m=\u001b[0m\u001b[0morientation\u001b[0m\u001b[0;34m,\u001b[0m\u001b[0;34m\u001b[0m\u001b[0;34m\u001b[0m\u001b[0m\n\u001b[1;32m   2081\u001b[0m                     \u001b[0mbbox_inches_restore\u001b[0m\u001b[0;34m=\u001b[0m\u001b[0m_bbox_inches_restore\u001b[0m\u001b[0;34m,\u001b[0m\u001b[0;34m\u001b[0m\u001b[0;34m\u001b[0m\u001b[0m\n\u001b[0;32m-> 2082\u001b[0;31m                     **kwargs)\n\u001b[0m\u001b[1;32m   2083\u001b[0m             \u001b[0;32mfinally\u001b[0m\u001b[0;34m:\u001b[0m\u001b[0;34m\u001b[0m\u001b[0;34m\u001b[0m\u001b[0m\n\u001b[1;32m   2084\u001b[0m                 \u001b[0;32mif\u001b[0m \u001b[0mbbox_inches\u001b[0m \u001b[0;32mand\u001b[0m \u001b[0mrestore_bbox\u001b[0m\u001b[0;34m:\u001b[0m\u001b[0;34m\u001b[0m\u001b[0;34m\u001b[0m\u001b[0m\n",
      "\u001b[0;32m~/anaconda3/lib/python3.7/site-packages/matplotlib/backends/backend_agg.py\u001b[0m in \u001b[0;36mprint_png\u001b[0;34m(self, filename_or_obj, metadata, pil_kwargs, *args, **kwargs)\u001b[0m\n\u001b[1;32m    528\u001b[0m             \u001b[0mrenderer\u001b[0m \u001b[0;34m=\u001b[0m \u001b[0mself\u001b[0m\u001b[0;34m.\u001b[0m\u001b[0mget_renderer\u001b[0m\u001b[0;34m(\u001b[0m\u001b[0;34m)\u001b[0m\u001b[0;34m\u001b[0m\u001b[0;34m\u001b[0m\u001b[0m\n\u001b[1;32m    529\u001b[0m             \u001b[0;32mwith\u001b[0m \u001b[0mcbook\u001b[0m\u001b[0;34m.\u001b[0m\u001b[0m_setattr_cm\u001b[0m\u001b[0;34m(\u001b[0m\u001b[0mrenderer\u001b[0m\u001b[0;34m,\u001b[0m \u001b[0mdpi\u001b[0m\u001b[0;34m=\u001b[0m\u001b[0mself\u001b[0m\u001b[0;34m.\u001b[0m\u001b[0mfigure\u001b[0m\u001b[0;34m.\u001b[0m\u001b[0mdpi\u001b[0m\u001b[0;34m)\u001b[0m\u001b[0;34m,\u001b[0m\u001b[0;31m \u001b[0m\u001b[0;31m\\\u001b[0m\u001b[0;34m\u001b[0m\u001b[0;34m\u001b[0m\u001b[0m\n\u001b[0;32m--> 530\u001b[0;31m                     \u001b[0mcbook\u001b[0m\u001b[0;34m.\u001b[0m\u001b[0mopen_file_cm\u001b[0m\u001b[0;34m(\u001b[0m\u001b[0mfilename_or_obj\u001b[0m\u001b[0;34m,\u001b[0m \u001b[0;34m\"wb\"\u001b[0m\u001b[0;34m)\u001b[0m \u001b[0;32mas\u001b[0m \u001b[0mfh\u001b[0m\u001b[0;34m:\u001b[0m\u001b[0;34m\u001b[0m\u001b[0;34m\u001b[0m\u001b[0m\n\u001b[0m\u001b[1;32m    531\u001b[0m                 _png.write_png(renderer._renderer, fh,\n\u001b[1;32m    532\u001b[0m                                self.figure.dpi, metadata=metadata)\n",
      "\u001b[0;32m~/anaconda3/lib/python3.7/contextlib.py\u001b[0m in \u001b[0;36m__enter__\u001b[0;34m(self)\u001b[0m\n\u001b[1;32m    110\u001b[0m         \u001b[0;32mdel\u001b[0m \u001b[0mself\u001b[0m\u001b[0;34m.\u001b[0m\u001b[0margs\u001b[0m\u001b[0;34m,\u001b[0m \u001b[0mself\u001b[0m\u001b[0;34m.\u001b[0m\u001b[0mkwds\u001b[0m\u001b[0;34m,\u001b[0m \u001b[0mself\u001b[0m\u001b[0;34m.\u001b[0m\u001b[0mfunc\u001b[0m\u001b[0;34m\u001b[0m\u001b[0;34m\u001b[0m\u001b[0m\n\u001b[1;32m    111\u001b[0m         \u001b[0;32mtry\u001b[0m\u001b[0;34m:\u001b[0m\u001b[0;34m\u001b[0m\u001b[0;34m\u001b[0m\u001b[0m\n\u001b[0;32m--> 112\u001b[0;31m             \u001b[0;32mreturn\u001b[0m \u001b[0mnext\u001b[0m\u001b[0;34m(\u001b[0m\u001b[0mself\u001b[0m\u001b[0;34m.\u001b[0m\u001b[0mgen\u001b[0m\u001b[0;34m)\u001b[0m\u001b[0;34m\u001b[0m\u001b[0;34m\u001b[0m\u001b[0m\n\u001b[0m\u001b[1;32m    113\u001b[0m         \u001b[0;32mexcept\u001b[0m \u001b[0mStopIteration\u001b[0m\u001b[0;34m:\u001b[0m\u001b[0;34m\u001b[0m\u001b[0;34m\u001b[0m\u001b[0m\n\u001b[1;32m    114\u001b[0m             \u001b[0;32mraise\u001b[0m \u001b[0mRuntimeError\u001b[0m\u001b[0;34m(\u001b[0m\u001b[0;34m\"generator didn't yield\"\u001b[0m\u001b[0;34m)\u001b[0m \u001b[0;32mfrom\u001b[0m \u001b[0;32mNone\u001b[0m\u001b[0;34m\u001b[0m\u001b[0;34m\u001b[0m\u001b[0m\n",
      "\u001b[0;32m~/anaconda3/lib/python3.7/site-packages/matplotlib/cbook/__init__.py\u001b[0m in \u001b[0;36mopen_file_cm\u001b[0;34m(path_or_file, mode, encoding)\u001b[0m\n\u001b[1;32m    445\u001b[0m \u001b[0;32mdef\u001b[0m \u001b[0mopen_file_cm\u001b[0m\u001b[0;34m(\u001b[0m\u001b[0mpath_or_file\u001b[0m\u001b[0;34m,\u001b[0m \u001b[0mmode\u001b[0m\u001b[0;34m=\u001b[0m\u001b[0;34m\"r\"\u001b[0m\u001b[0;34m,\u001b[0m \u001b[0mencoding\u001b[0m\u001b[0;34m=\u001b[0m\u001b[0;32mNone\u001b[0m\u001b[0;34m)\u001b[0m\u001b[0;34m:\u001b[0m\u001b[0;34m\u001b[0m\u001b[0;34m\u001b[0m\u001b[0m\n\u001b[1;32m    446\u001b[0m     \u001b[0;34mr\"\"\"Pass through file objects and context-manage `.PathLike`\\s.\"\"\"\u001b[0m\u001b[0;34m\u001b[0m\u001b[0;34m\u001b[0m\u001b[0m\n\u001b[0;32m--> 447\u001b[0;31m     \u001b[0mfh\u001b[0m\u001b[0;34m,\u001b[0m \u001b[0mopened\u001b[0m \u001b[0;34m=\u001b[0m \u001b[0mto_filehandle\u001b[0m\u001b[0;34m(\u001b[0m\u001b[0mpath_or_file\u001b[0m\u001b[0;34m,\u001b[0m \u001b[0mmode\u001b[0m\u001b[0;34m,\u001b[0m \u001b[0;32mTrue\u001b[0m\u001b[0;34m,\u001b[0m \u001b[0mencoding\u001b[0m\u001b[0;34m)\u001b[0m\u001b[0;34m\u001b[0m\u001b[0;34m\u001b[0m\u001b[0m\n\u001b[0m\u001b[1;32m    448\u001b[0m     \u001b[0;32mif\u001b[0m \u001b[0mopened\u001b[0m\u001b[0;34m:\u001b[0m\u001b[0;34m\u001b[0m\u001b[0;34m\u001b[0m\u001b[0m\n\u001b[1;32m    449\u001b[0m         \u001b[0;32mwith\u001b[0m \u001b[0mfh\u001b[0m\u001b[0;34m:\u001b[0m\u001b[0;34m\u001b[0m\u001b[0;34m\u001b[0m\u001b[0m\n",
      "\u001b[0;32m~/anaconda3/lib/python3.7/site-packages/matplotlib/cbook/__init__.py\u001b[0m in \u001b[0;36mto_filehandle\u001b[0;34m(fname, flag, return_opened, encoding)\u001b[0m\n\u001b[1;32m    430\u001b[0m             \u001b[0mfh\u001b[0m \u001b[0;34m=\u001b[0m \u001b[0mbz2\u001b[0m\u001b[0;34m.\u001b[0m\u001b[0mBZ2File\u001b[0m\u001b[0;34m(\u001b[0m\u001b[0mfname\u001b[0m\u001b[0;34m,\u001b[0m \u001b[0mflag\u001b[0m\u001b[0;34m)\u001b[0m\u001b[0;34m\u001b[0m\u001b[0;34m\u001b[0m\u001b[0m\n\u001b[1;32m    431\u001b[0m         \u001b[0;32melse\u001b[0m\u001b[0;34m:\u001b[0m\u001b[0;34m\u001b[0m\u001b[0;34m\u001b[0m\u001b[0m\n\u001b[0;32m--> 432\u001b[0;31m             \u001b[0mfh\u001b[0m \u001b[0;34m=\u001b[0m \u001b[0mopen\u001b[0m\u001b[0;34m(\u001b[0m\u001b[0mfname\u001b[0m\u001b[0;34m,\u001b[0m \u001b[0mflag\u001b[0m\u001b[0;34m,\u001b[0m \u001b[0mencoding\u001b[0m\u001b[0;34m=\u001b[0m\u001b[0mencoding\u001b[0m\u001b[0;34m)\u001b[0m\u001b[0;34m\u001b[0m\u001b[0;34m\u001b[0m\u001b[0m\n\u001b[0m\u001b[1;32m    433\u001b[0m         \u001b[0mopened\u001b[0m \u001b[0;34m=\u001b[0m \u001b[0;32mTrue\u001b[0m\u001b[0;34m\u001b[0m\u001b[0;34m\u001b[0m\u001b[0m\n\u001b[1;32m    434\u001b[0m     \u001b[0;32melif\u001b[0m \u001b[0mhasattr\u001b[0m\u001b[0;34m(\u001b[0m\u001b[0mfname\u001b[0m\u001b[0;34m,\u001b[0m \u001b[0;34m'seek'\u001b[0m\u001b[0;34m)\u001b[0m\u001b[0;34m:\u001b[0m\u001b[0;34m\u001b[0m\u001b[0;34m\u001b[0m\u001b[0m\n",
      "\u001b[0;31mFileNotFoundError\u001b[0m: [Errno 2] No such file or directory: '/ml/Picture/result.png'"
     ]
    },
    {
     "data": {
      "image/png": "[encoded data removed]",
      "text/plain": [
       "<Figure size 432x288 with 1 Axes>"
      ]
     },
     "metadata": {
      "needs_background": "light"
     },
     "output_type": "display_data"
    }
   ],
   "source": [
    "path = r'/ml/Picture/result.png'\n",
    "plt.hist(model.weight[:len(model.weight)-1]) #X = [X , 1]으로 bias를 포함하고 있다. 따라서, 마지막 weight는 모델의 복잡도에 관여하지 않으므로, 제외한다.\n",
    "plt.savefig(path)"
   ]
  },
  {
   "cell_type": "code",
   "execution_count": null,
   "metadata": {},
   "outputs": [],
   "source": []
  }
 ],
 "metadata": {
  "kernelspec": {
   "display_name": "Python 3",
   "language": "python",
   "name": "python3"
  },
  "language_info": {
   "codemirror_mode": {
    "name": "ipython",
    "version": 3
   },
   "file_extension": ".py",
   "mimetype": "text/x-python",
   "name": "python",
   "nbconvert_exporter": "python",
   "pygments_lexer": "ipython3",
   "version": "3.7.3"
  }
 },
 "nbformat": 4,
 "nbformat_minor": 4
}
